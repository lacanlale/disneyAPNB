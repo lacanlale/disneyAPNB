{
 "cells": [
  {
   "cell_type": "markdown",
   "metadata": {},
   "source": [
    "# __How many visits does it take to make your pass worth it?__\n",
    "\n",
    "## *Assumptions*\n",
    "\n",
    "For every time a guest visits, that guest will:\n",
    "- Enjoy their visit (meaning the individual ticket price was worth it)\n",
    "- Go to both parks\n",
    "- Pay a regular priced ticket\n",
    "- NOTE: Parking is not considered (yet)\n",
    "\n",
    "__Base Price of a Park Hopper ticket (Regular not Peak):__ \\$167\n",
    "\n",
    "\\begin{definition}\n",
    "You've made your \"money's worth\" when:\n",
    "$$\n",
    "(n \\times b) > (AP)\n",
    "$$\n",
    "Where:\n",
    "- __n__: number of visits\n",
    "- __b__: base price (generally \\$97 - \\$135 Disney alone, \\$147 - \\$187 Parkhopper)\n",
    "- __AP__: Annual Passport price\n",
    "\\end{definition}"
   ]
  },
  {
   "cell_type": "code",
   "execution_count": 9,
   "metadata": {},
   "outputs": [
    {
     "name": "stdout",
     "output_type": "stream",
     "text": [
      "After 3 visits, you will have your money's worth.\n",
      "If you did not buy the SoCal Select Passport, you would have spent $501.\n",
      "\n",
      "After 5 visits, you will have your money's worth.\n",
      "If you did not buy the Deluxe Passport, you would have spent $835.\n",
      "\n",
      "After 6 visits, you will have your money's worth.\n",
      "If you did not buy the Signature Passport, you would have spent $1002.\n",
      "\n",
      "After 7 visits, you will have your money's worth.\n",
      "If you did not buy the Signature Plus Passport, you would have spent $1169.\n",
      "\n"
     ]
    }
   ],
   "source": [
    "import pandas as pd\n",
    "\n",
    "df = pd.read_csv('APPrices.csv')\n",
    "base = 167\n",
    "tiers = df['TIER']\n",
    "prices = df['PRICE']\n",
    "\n",
    "tier_types = {\n",
    "    370: 'SoCal Select',\n",
    "    730: 'Deluxe',\n",
    "    1000: 'Signature',\n",
    "    1150: 'Signature Plus'\n",
    "}\n",
    "\n",
    "def worth_it(base, price):\n",
    "    num_visits = 1\n",
    "    while(base * num_visits <= price): num_visits += 1\n",
    "    return(f\"After {num_visits} visits, you will have your money's worth.\\nIf you did not buy the {tier_types[price]} Passport, you would have spent ${num_visits * base}.\")\n",
    "\n",
    "\n",
    "# print(worth_it(0, base, prices[0]))\n",
    "for x in prices:\n",
    "    print(worth_it(base, x))\n",
    "    print()"
   ]
  },
  {
   "cell_type": "markdown",
   "metadata": {},
   "source": [
    "# __Results__ \n",
    "\n",
    "- __SoCal Select__ = 3 visits, \\$369 with, \\$501 without\n",
    "- __Deluxe__ = 5 visits, \\$730 with, \\$835 without\n",
    "- __Signature__ = 6 visits, \\$1000 with, \\$1002 without\n",
    "- __Signature Plus__ = 7 visits, \\$1150 with, \\$1169 without"
   ]
  },
  {
   "cell_type": "code",
   "execution_count": 9,
   "metadata": {},
   "outputs": [
    {
     "data": {
      "image/png": "[encoded data removed]",
      "text/plain": [
       "<matplotlib.figure.Figure at 0x1172eff28>"
      ]
     },
     "metadata": {},
     "output_type": "display_data"
    }
   ],
   "source": [
    "%matplotlib inline\n",
    "import matplotlib.pyplot as plt\n",
    "\n",
    "reg_prices = [501, 835, 1002, 1169]\n",
    "\n",
    "plt.plot(tiers, reg_prices, color='r', label='REGULAR')\n",
    "plt.plot(tiers, prices, color='g', label='AP PRICES')\n",
    "plt.title('AP vs Regular')\n",
    "plt.ylabel('Pricing ($$$)')\n",
    "plt.xlabel('AP Tiers')\n",
    "plt.xticks([1, 2, 3, 4],\n",
    "          ['SoCal', 'Deluxe', 'Signature', 'Signature Plus'])\n",
    "plt.legend(loc='best', fontsize=12)\n",
    "plt.show()"
   ]
  }
 ],
 "metadata": {
  "kernelspec": {
   "display_name": "Python 3",
   "language": "python",
   "name": "python3"
  },
  "language_info": {
   "codemirror_mode": {
    "name": "ipython",
    "version": 3
   },
   "file_extension": ".py",
   "mimetype": "text/x-python",
   "name": "python",
   "nbconvert_exporter": "python",
   "pygments_lexer": "ipython3",
   "version": "3.6.4"
  },
  "latex_envs": {
   "LaTeX_envs_menu_present": true,
   "autoclose": false,
   "autocomplete": true,
   "bibliofile": "biblio.bib",
   "cite_by": "apalike",
   "current_citInitial": 1,
   "eqLabelWithNumbers": true,
   "eqNumInitial": 1,
   "hotkeys": {
    "equation": "Ctrl-E",
    "itemize": "Ctrl-I"
   },
   "labels_anchors": false,
   "latex_user_defs": false,
   "report_style_numbering": false,
   "user_envs_cfg": false
  },
  "toc": {
   "base_numbering": 1,
   "nav_menu": {},
   "number_sections": true,
   "sideBar": true,
   "skip_h1_title": false,
   "title_cell": "Table of Contents",
   "title_sidebar": "Contents",
   "toc_cell": false,
   "toc_position": {},
   "toc_section_display": true,
   "toc_window_display": false
  }
 },
 "nbformat": 4,
 "nbformat_minor": 2
}
