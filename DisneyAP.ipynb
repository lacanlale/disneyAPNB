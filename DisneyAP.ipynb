{
 "cells": [
  {
   "cell_type": "markdown",
   "metadata": {},
   "source": [
    "# __How many visits does it take to make your pass worth it?__\n",
    "\n",
    "<u>__TL;DR__</u>\n",
    "- __*SoCal Select (cheapest)*:__ pay \\$430 for the pass + parking and go 3 times (\\$561 if you paid every time)\n",
    "- __*Deluxe*:__ pay \\$830 for the pass + parking and go 5 times (\\$935 if you paid every time)\n",
    "- __*Signature*:__ pay \\$1000 for the pass, parking comes as a benefit with the pass, and go 6 times (\\$1122 if you paid every time)\n",
    "- __*Signature Plus*:__ pay \\$1150 for the pass, parking comes as a benefit, and go 7 times (\\$1309 if you paid every time)\n",
    "\n",
    "<u>__NOTE:__</u> \n",
    "- Parking at Disneyland is \\$20\n",
    "- ALWAYS consider blockout dates. This is mentioned below in the results section 2.1\n",
    "- Disney has enabled a <u>NEW POLICY <i>JUNE 1ST, 2018</i></u> that creates differing blockout dates for both parks. \n",
    "\n",
    "## <i>Assumptions</i>\n",
    "\n",
    "For every time a guest visits, that guest will:\n",
    "- Enjoy their visit (meaning the individual ticket price was worth it)\n",
    "- Go to both parks\n",
    "- Pay a regular priced ticket\n",
    "- NOTE: Parking is not considered (yet)\n",
    "\n",
    "__Base Price of a Park Hopper ticket (Regular not Peak):__ \\$167\n",
    "\n",
    "\\begin{definition}\n",
    "You've made your \"money's worth\" when:\n",
    "$$\n",
    "(n \\times b) > (AP)\n",
    "$$\n",
    "Where:\n",
    "- __n__: number of visits\n",
    "- __b__: base price (generally \\$97 - \\$135 Disney alone, \\$147 - \\$187 Parkhopper)\n",
    "- __AP__: Annual Passport price\n",
    "\\end{definition}"
   ]
  },
  {
   "cell_type": "code",
   "execution_count": 1,
   "metadata": {},
   "outputs": [
    {
     "name": "stdout",
     "output_type": "stream",
     "text": [
      "After 3 visits, you will have your money's worth.\n",
      "If you did not buy the SoCal Select Passport, you would have spent $501.\n",
      "\n",
      "After 5 visits, you will have your money's worth.\n",
      "If you did not buy the Deluxe Passport, you would have spent $835.\n",
      "\n",
      "After 6 visits, you will have your money's worth.\n",
      "If you did not buy the Signature Passport, you would have spent $1002.\n",
      "\n",
      "After 7 visits, you will have your money's worth.\n",
      "If you did not buy the Signature Plus Passport, you would have spent $1169.\n",
      "\n"
     ]
    }
   ],
   "source": [
    "import pandas as pd\n",
    "import numpy as np\n",
    "import matplotlib.pyplot as plt\n",
    "\n",
    "df = pd.read_csv('APPrices.csv')\n",
    "base = 167\n",
    "tiers = df['TIER']\n",
    "prices = df['PRICE']\n",
    "tier_types = {\n",
    "    370: 'SoCal Select',\n",
    "    730: 'Deluxe',\n",
    "    1000: 'Signature',\n",
    "    1150: 'Signature Plus'\n",
    "}\n",
    "\n",
    "\n",
    "def worth_it(base, price):\n",
    "    num_visits = 1\n",
    "    while (base * num_visits <= price):\n",
    "        num_visits += 1\n",
    "    return (\n",
    "        f\"After {num_visits} visits, you will have your money's worth.\\nIf you did not buy the {tier_types[price]} Passport, you would have spent ${num_visits * base}.\"\n",
    "    )\n",
    "\n",
    "\n",
    "for x in prices:\n",
    "    print(\"{}\\n\".format(worth_it(base, x)))"
   ]
  },
  {
   "cell_type": "markdown",
   "metadata": {},
   "source": [
    "# __Results__ "
   ]
  },
  {
   "cell_type": "code",
   "execution_count": 2,
   "metadata": {
    "cell_style": "split"
   },
   "outputs": [
    {
     "data": {
      "image/png": "[encoded data removed]",
      "text/plain": [
       "<matplotlib.figure.Figure at 0x10a66a160>"
      ]
     },
     "metadata": {},
     "output_type": "display_data"
    }
   ],
   "source": [
    "reg_prices = [561, 935, 1112, 1309]\n",
    "ind = np.arange(4)\n",
    "plt.figure(figsize=(10, 6))\n",
    "prices[0] += 60\n",
    "prices[1] += 100\n",
    "reg = plt.bar(ind, reg_prices, 0.35)\n",
    "ap = plt.bar(ind, prices, 0.35)\n",
    "\n",
    "plt.ylabel('Price ($$$)')\n",
    "plt.title('Ticket Prices by AP and Individual (with parking)')\n",
    "plt.xticks(ind, ('SOCAL', 'DELUXE', 'SIGNATURE', 'SIGNATURE PLUS'))\n",
    "plt.legend((reg, ap), ('REGULAR', 'ANNUAL PASS'))\n",
    "plt.show()"
   ]
  },
  {
   "cell_type": "code",
   "execution_count": 3,
   "metadata": {
    "cell_style": "split"
   },
   "outputs": [
    {
     "data": {
      "image/png": "[encoded data removed]",
      "text/plain": [
       "<matplotlib.figure.Figure at 0x1128a06a0>"
      ]
     },
     "metadata": {},
     "output_type": "display_data"
    }
   ],
   "source": [
    "reg_prices = [501, 835, 1002, 1169]\n",
    "ind = np.arange(4)\n",
    "plt.figure(figsize=(10, 6))\n",
    "prices[0] -= 60\n",
    "prices[1] -= 100\n",
    "reg = plt.bar(ind, reg_prices, 0.35)\n",
    "ap = plt.bar(ind, prices, 0.35)\n",
    "\n",
    "plt.ylabel('Price ($$$)')\n",
    "plt.title('Ticket Prices by AP and Individual (without parking)')\n",
    "plt.xticks(ind, ('SOCAL', 'DELUXE', 'SIGNATURE', 'SIGNATURE PLUS'))\n",
    "plt.legend((reg, ap), ('REGULAR', 'ANNUAL PASS'))\n",
    "plt.show()"
   ]
  },
  {
   "cell_type": "markdown",
   "metadata": {},
   "source": [
    "The first two initial tiers <u>DO NOT</u> include free parking, so if a guest would like to park in the structure, they must pay a minimum of **\\$20**\n",
    "\n",
    "Type | Pass Price | Total of Single Ticket Price | # of Visits needed \n",
    "--- | --- | --- | --- \n",
    "__SoCal Select__ | \\$430 | \\$561 | 3\n",
    "__Deluxe__ | \\$830 | \\$935 | 5\n",
    "__Signature__ | \\$1000 | \\$1122 | 6\n",
    "__Signature Plus__ | \\$1150 | \\$1309 | 7\n",
    "\n",
    "## <i>In-Depth</i>\n",
    "\n",
    "Although the <i>SoCal Select</i> is the easiest pass to meet its worth, <i>all weekends</i> and <i>most</i> major holidays (including the previous and following 5-10 day time span) are <u>blocked out</u>. If you are a student/parent, simply being able to go for a whole day can be difficult.\n",
    "\n",
    "The <i>Deluxe</i> is fairly reasonable as it does allow for several weekend visits and significantly less blockout dates. The biggest drawback is the jump in price and <u>still</u> does not include free parking, so each visit will have an automatic \\$20 payment, same goes for <i>SoCal Select</i>  (assuming the guest parks in the parking structure)\n",
    "\n",
    "A *Signature* and *Signature Plus* Passport meet their worth largely due to parking, reduction in blockout dates, and <u>higher discounts.</u> While *SoCal* and *Deluxe* offer 10% off on food and merchandise, *Signature* and *Signature Plus* offer 15% off food and 20% off on merchandise. The worth of that is determined by the guest.\n",
    "\n",
    "A *Signature Plus* is also the only pass to have 0 blockout dates and offers Disney's <u>*MaxPass*</u>. This allows for:\n",
    "\n",
    "- FastPass selection on mobile devices\n",
    "- Disney PhotoPass downloads\n",
    "\n",
    "To buy the MaxPass as an addition to a passport is \\$75. For every individual ticket, it would cost \\$10 per ticket."
   ]
  },
  {
   "cell_type": "markdown",
   "metadata": {},
   "source": [
    "thank u for coming to my TED talk by Jonathan Lacanlale"
   ]
  }
 ],
 "metadata": {
  "kernelspec": {
   "display_name": "Python 3",
   "language": "python",
   "name": "python3"
  },
  "language_info": {
   "codemirror_mode": {
    "name": "ipython",
    "version": 3
   },
   "file_extension": ".py",
   "mimetype": "text/x-python",
   "name": "python",
   "nbconvert_exporter": "python",
   "pygments_lexer": "ipython3",
   "version": "3.6.4"
  },
  "latex_envs": {
   "LaTeX_envs_menu_present": true,
   "autoclose": false,
   "autocomplete": true,
   "bibliofile": "biblio.bib",
   "cite_by": "apalike",
   "current_citInitial": 1,
   "eqLabelWithNumbers": true,
   "eqNumInitial": 1,
   "hotkeys": {
    "equation": "Ctrl-E",
    "itemize": "Ctrl-I"
   },
   "labels_anchors": false,
   "latex_user_defs": false,
   "report_style_numbering": false,
   "user_envs_cfg": false
  },
  "toc": {
   "base_numbering": 1,
   "nav_menu": {},
   "number_sections": true,
   "sideBar": true,
   "skip_h1_title": false,
   "title_cell": "Table of Contents",
   "title_sidebar": "Contents",
   "toc_cell": false,
   "toc_position": {},
   "toc_section_display": true,
   "toc_window_display": false
  }
 },
 "nbformat": 4,
 "nbformat_minor": 2
}
